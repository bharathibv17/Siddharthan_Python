{
 "cells": [
  {
   "cell_type": "code",
   "execution_count": null,
   "id": "c7ec19c8",
   "metadata": {},
   "outputs": [],
   "source": [
    "#For loops --> is used to repeat certain action "
   ]
  },
  {
   "cell_type": "code",
   "execution_count": 1,
   "id": "b5fb3b26",
   "metadata": {},
   "outputs": [
    {
     "name": "stdout",
     "output_type": "stream",
     "text": [
      "Enter the laptop price : 20000\n",
      "Enter the laptop price : 30000\n",
      "Enter the laptop price : 40000\n",
      "Enter the laptop price : 50000\n",
      "Enter the laptop price : 60000\n"
     ]
    }
   ],
   "source": [
    "laptop1 = int(input('Enter the laptop price : '))\n",
    "laptop2 = int(input('Enter the laptop price : '))\n",
    "laptop3 = int(input('Enter the laptop price : '))\n",
    "laptop4 = int(input('Enter the laptop price : '))\n",
    "laptop5 = int(input('Enter the laptop price : '))\n",
    "# here we have given the price to be printed 5 times but the laptop names are different\n",
    "#however this is not the efficient way to coding"
   ]
  },
  {
   "cell_type": "code",
   "execution_count": 4,
   "id": "b28192c9",
   "metadata": {},
   "outputs": [
    {
     "name": "stdout",
     "output_type": "stream",
     "text": [
      "Enter the laptop price : 10000\n",
      "Enter the laptop price : 20000\n",
      "Enter the laptop price : 30000\n",
      "Enter the laptop price : 40000\n",
      "Enter the laptop price : 50000\n"
     ]
    }
   ],
   "source": [
    "#above one can be written in below way\n",
    "for i in range(5): #here 5 represent to run 0,1,2,3,4\n",
    "    laptop_price =(int(input('Enter the laptop price : ')))"
   ]
  },
  {
   "cell_type": "code",
   "execution_count": 5,
   "id": "758482cb",
   "metadata": {},
   "outputs": [
    {
     "name": "stdout",
     "output_type": "stream",
     "text": [
      "50\n",
      "100\n",
      "150\n",
      "200\n"
     ]
    }
   ],
   "source": [
    "numbers =[50,100,150,200]\n",
    "print(numbers[0])\n",
    "print(numbers[1])\n",
    "print(numbers[2])\n",
    "print(numbers[3])"
   ]
  },
  {
   "cell_type": "code",
   "execution_count": 6,
   "id": "82ac28be",
   "metadata": {},
   "outputs": [
    {
     "name": "stdout",
     "output_type": "stream",
     "text": [
      "50\n",
      "100\n",
      "150\n",
      "200\n"
     ]
    }
   ],
   "source": [
    "numbers =[50,100,150,200] # for loop \n",
    "\n",
    "for i in numbers:\n",
    "    print(i)"
   ]
  },
  {
   "cell_type": "markdown",
   "id": "a9fcddd1",
   "metadata": {},
   "source": [
    "## While loop --> if conditions are true or satisfied"
   ]
  },
  {
   "cell_type": "code",
   "execution_count": 8,
   "id": "eb738779",
   "metadata": {},
   "outputs": [
    {
     "name": "stdout",
     "output_type": "stream",
     "text": [
      "0\n",
      "1\n",
      "2\n",
      "3\n",
      "4\n",
      "5\n",
      "6\n",
      "7\n",
      "8\n",
      "9\n"
     ]
    }
   ],
   "source": [
    "i = 0\n",
    "\n",
    "while i <10:\n",
    "    print(i)\n",
    "    i += 1"
   ]
  },
  {
   "cell_type": "code",
   "execution_count": 9,
   "id": "d2bf612f",
   "metadata": {},
   "outputs": [],
   "source": [
    "#if condition is not true\n",
    "\n",
    "i = 5\n",
    "\n",
    "while i <3:\n",
    "    print(i)\n",
    "    i += 1  #here output will be nothing -->output wont be printed"
   ]
  },
  {
   "cell_type": "code",
   "execution_count": null,
   "id": "1d4896be",
   "metadata": {},
   "outputs": [],
   "source": []
  }
 ],
 "metadata": {
  "kernelspec": {
   "display_name": "Python 3 (ipykernel)",
   "language": "python",
   "name": "python3"
  },
  "language_info": {
   "codemirror_mode": {
    "name": "ipython",
    "version": 3
   },
   "file_extension": ".py",
   "mimetype": "text/x-python",
   "name": "python",
   "nbconvert_exporter": "python",
   "pygments_lexer": "ipython3",
   "version": "3.11.3"
  }
 },
 "nbformat": 4,
 "nbformat_minor": 5
}
