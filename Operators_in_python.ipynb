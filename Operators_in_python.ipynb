{
  "nbformat": 4,
  "nbformat_minor": 0,
  "metadata": {
    "colab": {
      "provenance": []
    },
    "kernelspec": {
      "name": "python3",
      "display_name": "Python 3"
    },
    "language_info": {
      "name": "python"
    }
  },
  "cells": [
    {
      "cell_type": "markdown",
      "source": [
        "Operators in Python\n",
        "\n",
        "1. Arthimetic operators\n",
        "2. Assignment operators\n",
        "3. Comparison operators\n",
        "4. Logical Operators\n",
        "5. Identity operators\n",
        "6. Membership operators"
      ],
      "metadata": {
        "id": "cAMmUGQ3h-pK"
      }
    },
    {
      "cell_type": "markdown",
      "source": [
        "#Arthimetic Operators"
      ],
      "metadata": {
        "id": "TB0Vme6siM7W"
      }
    },
    {
      "cell_type": "code",
      "execution_count": null,
      "metadata": {
        "colab": {
          "base_uri": "https://localhost:8080/"
        },
        "id": "ZkGCljB2h0GW",
        "outputId": "1c3af665-ae6b-49cc-f1aa-d69174fa983f"
      },
      "outputs": [
        {
          "output_type": "stream",
          "name": "stdout",
          "text": [
            "Sum  30\n",
            "Subtraction  10\n",
            "Multiplication  200\n",
            "Division  2.0\n",
            "Exponent  10240000000000\n",
            "Modules  0\n"
          ]
        }
      ],
      "source": [
        "# Basicaly mathematical operators which can perform on int, float data types\n",
        "num_1 =20\n",
        "num_2 =10\n",
        "\n",
        "# addition\n",
        "sum = num_1 + num_2\n",
        "print(\"Sum \", sum)\n",
        "\n",
        "# subtraction\n",
        "sub = num_1 - num_2\n",
        "print(\"Subtraction \",sub)\n",
        "\n",
        "# multiplication\n",
        "mul = num_1 * num_2\n",
        "print(\"Multiplication \",mul)\n",
        "\n",
        "# division\n",
        "div = num_1 / num_2\n",
        "print(\"Division \",div)\n",
        "\n",
        "# Exponent\n",
        "exp = num_1 ** num_2\n",
        "print(\"Exponent \",exp)\n",
        "\n",
        "#modules\n",
        "mod = num_1 % num_2\n",
        "print(\"Modules \",mod)"
      ]
    },
    {
      "cell_type": "markdown",
      "source": [
        "#Assignment Operators"
      ],
      "metadata": {
        "id": "_mMwboVzjms6"
      }
    },
    {
      "cell_type": "code",
      "source": [
        "a = 5\n",
        "print(a)"
      ],
      "metadata": {
        "colab": {
          "base_uri": "https://localhost:8080/"
        },
        "id": "mkqfqjP0ihoH",
        "outputId": "65caa09a-93d6-4927-f90b-25a3e27df556"
      },
      "execution_count": null,
      "outputs": [
        {
          "output_type": "stream",
          "name": "stdout",
          "text": [
            "5\n"
          ]
        }
      ]
    },
    {
      "cell_type": "code",
      "source": [
        "a = 5\n",
        "a += 5  #a = a+5\n",
        "print(a)\n"
      ],
      "metadata": {
        "colab": {
          "base_uri": "https://localhost:8080/"
        },
        "id": "zQZawazCju1Z",
        "outputId": "6a15bc22-2125-4d65-bfe2-a2810708c6ca"
      },
      "execution_count": null,
      "outputs": [
        {
          "output_type": "stream",
          "name": "stdout",
          "text": [
            "10\n"
          ]
        }
      ]
    },
    {
      "cell_type": "code",
      "source": [
        "b = 10\n",
        "b -= 10\n",
        "print(b)\n"
      ],
      "metadata": {
        "id": "0IF3j-jJj3Sy",
        "colab": {
          "base_uri": "https://localhost:8080/"
        },
        "outputId": "0c2af6ba-900a-4890-822b-81a27c545f26"
      },
      "execution_count": 1,
      "outputs": [
        {
          "output_type": "stream",
          "name": "stdout",
          "text": [
            "0\n"
          ]
        }
      ]
    },
    {
      "cell_type": "code",
      "source": [
        "c = 5\n",
        "c *= 5\n",
        "print(c)"
      ],
      "metadata": {
        "colab": {
          "base_uri": "https://localhost:8080/"
        },
        "id": "4r1ZRCfcXOpj",
        "outputId": "1efb70bb-7c01-42d7-97b7-1cc20c7d2055"
      },
      "execution_count": 3,
      "outputs": [
        {
          "output_type": "stream",
          "name": "stdout",
          "text": [
            "25\n"
          ]
        }
      ]
    },
    {
      "cell_type": "code",
      "source": [
        "d = 5\n",
        "d **= 5\n",
        "print(d)"
      ],
      "metadata": {
        "colab": {
          "base_uri": "https://localhost:8080/"
        },
        "id": "5qpSMrcyXYKy",
        "outputId": "4e712678-e181-46de-a396-34aa75d0123a"
      },
      "execution_count": 4,
      "outputs": [
        {
          "output_type": "stream",
          "name": "stdout",
          "text": [
            "3125\n"
          ]
        }
      ]
    },
    {
      "cell_type": "code",
      "source": [
        "e = 5\n",
        "e %= 5\n",
        "print(e)"
      ],
      "metadata": {
        "colab": {
          "base_uri": "https://localhost:8080/"
        },
        "id": "KQFEGiu3XfAY",
        "outputId": "edc70889-b183-411d-8ac9-854d4db18445"
      },
      "execution_count": 5,
      "outputs": [
        {
          "output_type": "stream",
          "name": "stdout",
          "text": [
            "0\n"
          ]
        }
      ]
    },
    {
      "cell_type": "code",
      "source": [
        "f = 5\n",
        "f /= 5\n",
        "print(f)"
      ],
      "metadata": {
        "colab": {
          "base_uri": "https://localhost:8080/"
        },
        "id": "ObTDX7zxXjak",
        "outputId": "d6b0b778-9013-4607-a340-3d5688585b55"
      },
      "execution_count": 6,
      "outputs": [
        {
          "output_type": "stream",
          "name": "stdout",
          "text": [
            "1.0\n"
          ]
        }
      ]
    },
    {
      "cell_type": "markdown",
      "source": [
        "#Comparison operator"
      ],
      "metadata": {
        "id": "G4P9xR8uXp5S"
      }
    },
    {
      "cell_type": "code",
      "source": [
        "a = 5\n",
        "b = 10\n",
        "print(a > 5) # this prints only boolean value"
      ],
      "metadata": {
        "colab": {
          "base_uri": "https://localhost:8080/"
        },
        "id": "kmesKUMXXm0n",
        "outputId": "0ca92c76-b82b-465d-a62e-c4cd8213fd20"
      },
      "execution_count": 7,
      "outputs": [
        {
          "output_type": "stream",
          "name": "stdout",
          "text": [
            "False\n"
          ]
        }
      ]
    },
    {
      "cell_type": "code",
      "source": [
        "a = 10\n",
        "b = 22\n",
        "print(b > a)"
      ],
      "metadata": {
        "colab": {
          "base_uri": "https://localhost:8080/"
        },
        "id": "x1f8T3u7X3rx",
        "outputId": "dc4cd597-faa2-4eaa-ba5e-bff8e7a4d050"
      },
      "execution_count": 8,
      "outputs": [
        {
          "output_type": "stream",
          "name": "stdout",
          "text": [
            "True\n"
          ]
        }
      ]
    },
    {
      "cell_type": "code",
      "source": [
        "a = 5\n",
        "b = 10\n",
        "\n",
        "print(a == b) #equal to\n",
        "print(a != b) #not equal\n",
        "print(a > b) #greater than\n",
        "print(a < b) #lesser than\n",
        "print(a >= b)\n",
        "print( a <= b)"
      ],
      "metadata": {
        "colab": {
          "base_uri": "https://localhost:8080/"
        },
        "id": "CCyeYUBeX-u4",
        "outputId": "d064a679-a73c-49b3-9449-18ea19dfe01f"
      },
      "execution_count": 9,
      "outputs": [
        {
          "output_type": "stream",
          "name": "stdout",
          "text": [
            "False\n",
            "True\n",
            "False\n",
            "True\n",
            "False\n",
            "True\n"
          ]
        }
      ]
    },
    {
      "cell_type": "markdown",
      "source": [
        "#Logical Operators"
      ],
      "metadata": {
        "id": "LYOmsJLjYew6"
      }
    },
    {
      "cell_type": "markdown",
      "source": [
        "and\n",
        "\n",
        "or\n",
        "\n",
        "not"
      ],
      "metadata": {
        "id": "QF0MaUQJYiCX"
      }
    },
    {
      "cell_type": "code",
      "source": [
        "a = 10\n",
        "print(a>20 and a>5)  # in 'and' operator both the condition should be true\n",
        "print(a>20 or a>5) # in 'or' operator either one can be true\n",
        "print(not(a>8 and a>5))"
      ],
      "metadata": {
        "colab": {
          "base_uri": "https://localhost:8080/"
        },
        "id": "pJ6zhFJcYcO3",
        "outputId": "e021ff0b-ee38-4d37-8d05-054c6a6cb24d"
      },
      "execution_count": 10,
      "outputs": [
        {
          "output_type": "stream",
          "name": "stdout",
          "text": [
            "False\n",
            "True\n",
            "False\n"
          ]
        }
      ]
    },
    {
      "cell_type": "markdown",
      "source": [
        "#Identity Operator"
      ],
      "metadata": {
        "id": "2aUH5fpWZNsW"
      }
    },
    {
      "cell_type": "markdown",
      "source": [
        "is\n",
        "\n",
        "is not"
      ],
      "metadata": {
        "id": "4xP1gV4iZQ8G"
      }
    },
    {
      "cell_type": "code",
      "source": [
        "x = 5\n",
        "y= 5\n",
        "print(x is y) # it will check whether x is same as y\n"
      ],
      "metadata": {
        "colab": {
          "base_uri": "https://localhost:8080/"
        },
        "id": "pA_1qAklZFzW",
        "outputId": "ee816b31-a42a-46c1-c478-c2001db1aa72"
      },
      "execution_count": 11,
      "outputs": [
        {
          "output_type": "stream",
          "name": "stdout",
          "text": [
            "True\n"
          ]
        }
      ]
    },
    {
      "cell_type": "code",
      "source": [
        "x = 5\n",
        "y= 10\n",
        "print(x is not y)"
      ],
      "metadata": {
        "colab": {
          "base_uri": "https://localhost:8080/"
        },
        "id": "-8R_URShZV_K",
        "outputId": "dce7e4b6-cee0-4a45-f4e2-1abe1749c115"
      },
      "execution_count": 13,
      "outputs": [
        {
          "output_type": "stream",
          "name": "stdout",
          "text": [
            "True\n"
          ]
        }
      ]
    },
    {
      "cell_type": "markdown",
      "source": [
        "#Membership Operator"
      ],
      "metadata": {
        "id": "xOtBesbwZm11"
      }
    },
    {
      "cell_type": "markdown",
      "source": [
        "in\n",
        "\n",
        "not in"
      ],
      "metadata": {
        "id": "BqnzxHx0Zvf2"
      }
    },
    {
      "cell_type": "code",
      "source": [
        "a = 5  # checks whether element is present in object\n",
        "b = 10\n",
        "\n",
        "c = [1,2,3,4,5]\n",
        "\n",
        "print(a in c)\n",
        "print(b in c)"
      ],
      "metadata": {
        "colab": {
          "base_uri": "https://localhost:8080/"
        },
        "id": "Nt6kZLPEZfrO",
        "outputId": "6a0af462-e8b9-4199-fb83-e674e1b2f6e7"
      },
      "execution_count": 14,
      "outputs": [
        {
          "output_type": "stream",
          "name": "stdout",
          "text": [
            "True\n",
            "False\n"
          ]
        }
      ]
    },
    {
      "cell_type": "code",
      "source": [
        "a = 5  # checks whether element is present in object\n",
        "b = 10\n",
        "\n",
        "c = [1,2,3,4,5]\n",
        "\n",
        "print(a not in c)\n",
        "print(b not in c)"
      ],
      "metadata": {
        "colab": {
          "base_uri": "https://localhost:8080/"
        },
        "id": "BGnlaOQRaoj9",
        "outputId": "aea1789b-30a3-4f07-fcd5-83f4d40d9203"
      },
      "execution_count": 15,
      "outputs": [
        {
          "output_type": "stream",
          "name": "stdout",
          "text": [
            "False\n",
            "True\n"
          ]
        }
      ]
    },
    {
      "cell_type": "code",
      "source": [],
      "metadata": {
        "id": "gyH8pvOrazI0"
      },
      "execution_count": null,
      "outputs": []
    }
  ]
}