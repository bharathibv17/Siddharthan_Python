{
 "cells": [
  {
   "cell_type": "markdown",
   "id": "f65038c3",
   "metadata": {},
   "source": [
    "#### NumPy -- > Numerical Python\n",
    "\n",
    "Advantage in Numpy Arrays\n",
    "1. Allows several mathematical operations\n",
    "2. Faster Operations"
   ]
  },
  {
   "cell_type": "code",
   "execution_count": 1,
   "id": "4e6105f9",
   "metadata": {},
   "outputs": [],
   "source": [
    "#importing libraries\n",
    "import numpy as np"
   ]
  },
  {
   "cell_type": "markdown",
   "id": "998d1687",
   "metadata": {},
   "source": [
    "#### List vs NumPy timetaken"
   ]
  },
  {
   "cell_type": "code",
   "execution_count": 5,
   "id": "7b35c32b",
   "metadata": {},
   "outputs": [],
   "source": [
    "from time import process_time"
   ]
  },
  {
   "cell_type": "markdown",
   "id": "cc0dbdd8",
   "metadata": {},
   "source": [
    "##### Time taken by a list"
   ]
  },
  {
   "cell_type": "code",
   "execution_count": 6,
   "id": "359fa5c3",
   "metadata": {},
   "outputs": [
    {
     "name": "stdout",
     "output_type": "stream",
     "text": [
      "0.0\n"
     ]
    }
   ],
   "source": [
    "python_list =[i for i in range(10000)]\n",
    "\n",
    "start_time = process_time()\n",
    "\n",
    "python_list = [i+5 for i in python_list]\n",
    "\n",
    "end_time = process_time()\n",
    "\n",
    "print(end_time - start_time)"
   ]
  },
  {
   "cell_type": "code",
   "execution_count": 7,
   "id": "399141cc",
   "metadata": {},
   "outputs": [
    {
     "name": "stdout",
     "output_type": "stream",
     "text": [
      "0.0\n"
     ]
    }
   ],
   "source": [
    "from time import process_time  # Import process_time from the time module\n",
    "\n",
    "# Initialize the list with numbers from 0 to 9999\n",
    "python_list = [i for i in range(10000)]\n",
    "\n",
    "# Record the start time\n",
    "start_time = process_time()\n",
    "\n",
    "# Increment each element in the list by 5\n",
    "python_list = [i + 5 for i in python_list]\n",
    "\n",
    "# Record the end time\n",
    "end_time = process_time()\n",
    "\n",
    "# Print the time taken for the operation\n",
    "print(end_time - start_time)\n"
   ]
  },
  {
   "cell_type": "code",
   "execution_count": 8,
   "id": "9e78129e",
   "metadata": {},
   "outputs": [
    {
     "name": "stdout",
     "output_type": "stream",
     "text": [
      "0.0010082721710205078\n"
     ]
    }
   ],
   "source": [
    "from time import time  # Import time for wall-clock time\n",
    "\n",
    "# Initialize the list with numbers from 0 to 9999\n",
    "python_list = [i for i in range(10000)]\n",
    "\n",
    "# Record the start time\n",
    "start_time = time()\n",
    "\n",
    "# Increment each element in the list by 5\n",
    "python_list = [i + 5 for i in python_list]\n",
    "\n",
    "# Record the end time\n",
    "end_time = time()\n",
    "\n",
    "# Print the time taken for the operation\n",
    "print(end_time - start_time)\n"
   ]
  },
  {
   "cell_type": "code",
   "execution_count": 11,
   "id": "82223a6f",
   "metadata": {},
   "outputs": [
    {
     "name": "stdout",
     "output_type": "stream",
     "text": [
      "0.012342453002929688\n"
     ]
    }
   ],
   "source": [
    "np_array = np.array([i for i in range(10000)])\n",
    "\n",
    "start_time = time()\n",
    "\n",
    "#adding values\n",
    "np_array += 5 \n",
    "\n",
    "end_time = time()\n",
    "\n",
    "print(end_time - start_time)"
   ]
  },
  {
   "cell_type": "markdown",
   "id": "2a6d8471",
   "metadata": {},
   "source": [
    "### Numpy Arrays"
   ]
  },
  {
   "cell_type": "code",
   "execution_count": 12,
   "id": "bbbf04e3",
   "metadata": {},
   "outputs": [
    {
     "name": "stdout",
     "output_type": "stream",
     "text": [
      "[1, 2, 3, 4, 5]\n",
      "<class 'list'>\n"
     ]
    }
   ],
   "source": [
    "#lisst\n",
    "list1 = [1,2,3,4,5]\n",
    "print(list1)\n",
    "print(type(list1))"
   ]
  },
  {
   "cell_type": "code",
   "execution_count": 14,
   "id": "b3a3e66c",
   "metadata": {},
   "outputs": [
    {
     "name": "stdout",
     "output_type": "stream",
     "text": [
      "[1 2 3 4 5]\n",
      "<class 'numpy.ndarray'>\n"
     ]
    }
   ],
   "source": [
    "np_array = np.array([1,2,3,4,5])\n",
    "print(np_array)\n",
    "print(type(np_array))"
   ]
  },
  {
   "cell_type": "code",
   "execution_count": 15,
   "id": "31d049cb",
   "metadata": {},
   "outputs": [
    {
     "name": "stdout",
     "output_type": "stream",
     "text": [
      "[1 2 3 4]\n"
     ]
    }
   ],
   "source": [
    "# creating a one dimensional array\n",
    "a = np.array([1,2,3,4])\n",
    "print(a)"
   ]
  },
  {
   "cell_type": "code",
   "execution_count": 16,
   "id": "e6bcf136",
   "metadata": {},
   "outputs": [
    {
     "data": {
      "text/plain": [
       "(4,)"
      ]
     },
     "execution_count": 16,
     "metadata": {},
     "output_type": "execute_result"
    }
   ],
   "source": [
    "a.shape -->#rows and columns in array"
   ]
  },
  {
   "cell_type": "code",
   "execution_count": 19,
   "id": "8c4c6b19",
   "metadata": {},
   "outputs": [
    {
     "name": "stdout",
     "output_type": "stream",
     "text": [
      "[[5 6 7 8]\n",
      " [1 2 3 4]]\n"
     ]
    }
   ],
   "source": [
    "b = np.array([(5,6,7,8),(1,2,3,4)])\n",
    "print(b)"
   ]
  },
  {
   "cell_type": "code",
   "execution_count": 20,
   "id": "9869fc06",
   "metadata": {},
   "outputs": [
    {
     "data": {
      "text/plain": [
       "(2, 4)"
      ]
     },
     "execution_count": 20,
     "metadata": {},
     "output_type": "execute_result"
    }
   ],
   "source": [
    "b.shape -->#here we can see it has 2 rows and 4 columns"
   ]
  },
  {
   "cell_type": "code",
   "execution_count": 22,
   "id": "2068bf00",
   "metadata": {},
   "outputs": [
    {
     "name": "stdout",
     "output_type": "stream",
     "text": [
      "[[1. 2. 3. 4.]\n",
      " [5. 6. 7. 8.]]\n"
     ]
    }
   ],
   "source": [
    "c = np.array([(1,2,3,4),(5,6,7,8)],dtype=float) # here we are changing to float\n",
    "print(c)"
   ]
  },
  {
   "cell_type": "markdown",
   "id": "4d8b5bdb",
   "metadata": {},
   "source": [
    "##### Initial placeholder in numpy array\n",
    "\n",
    "initialize array in some cases"
   ]
  },
  {
   "cell_type": "code",
   "execution_count": 23,
   "id": "0cbb1525",
   "metadata": {},
   "outputs": [
    {
     "name": "stdout",
     "output_type": "stream",
     "text": [
      "[[0. 0. 0. 0. 0.]\n",
      " [0. 0. 0. 0. 0.]\n",
      " [0. 0. 0. 0. 0.]\n",
      " [0. 0. 0. 0. 0.]]\n"
     ]
    }
   ],
   "source": [
    "#create a numpy array of Zeros\n",
    "x = np.zeros((4,5))\n",
    "print(x)"
   ]
  },
  {
   "cell_type": "code",
   "execution_count": 25,
   "id": "751cf455",
   "metadata": {},
   "outputs": [
    {
     "name": "stdout",
     "output_type": "stream",
     "text": [
      "[[1. 1. 1. 1. 1.]\n",
      " [1. 1. 1. 1. 1.]\n",
      " [1. 1. 1. 1. 1.]\n",
      " [1. 1. 1. 1. 1.]]\n"
     ]
    }
   ],
   "source": [
    "# create a numpy array of ones\n",
    "y = np.ones((4,5))\n",
    "print(y)"
   ]
  },
  {
   "cell_type": "code",
   "execution_count": 26,
   "id": "9b522f91",
   "metadata": {},
   "outputs": [
    {
     "name": "stdout",
     "output_type": "stream",
     "text": [
      "[[5 5 5 5]\n",
      " [5 5 5 5]\n",
      " [5 5 5 5]\n",
      " [5 5 5 5]\n",
      " [5 5 5 5]]\n"
     ]
    }
   ],
   "source": [
    "#array of a particular values\n",
    "z = np.full((5,4),5) #here i need 5 columns and 4 rows of 5 number\n",
    "print(z)"
   ]
  },
  {
   "cell_type": "code",
   "execution_count": 28,
   "id": "cbf343b5",
   "metadata": {},
   "outputs": [
    {
     "name": "stdout",
     "output_type": "stream",
     "text": [
      "[[1. 0. 0. 0. 0.]\n",
      " [0. 1. 0. 0. 0.]\n",
      " [0. 0. 1. 0. 0.]\n",
      " [0. 0. 0. 1. 0.]\n",
      " [0. 0. 0. 0. 1.]]\n"
     ]
    }
   ],
   "source": [
    "#create a identiy matrix --> has same number of rows and columns\n",
    "a = np.eye(5)\n",
    "print(a)"
   ]
  },
  {
   "cell_type": "code",
   "execution_count": 29,
   "id": "79a8060b",
   "metadata": {},
   "outputs": [
    {
     "name": "stdout",
     "output_type": "stream",
     "text": [
      "[[0.35048032 0.54182313 0.21517477 0.63375994]\n",
      " [0.54225445 0.87009825 0.76833179 0.03790691]\n",
      " [0.44348088 0.90640126 0.05733056 0.82861621]]\n"
     ]
    }
   ],
   "source": [
    "#create a numpy array with random values\n",
    "b = np.random.random((3,4))\n",
    "print(b)"
   ]
  },
  {
   "cell_type": "code",
   "execution_count": 30,
   "id": "aa690efa",
   "metadata": {},
   "outputs": [
    {
     "name": "stdout",
     "output_type": "stream",
     "text": [
      "[[14 40 56 54 13]\n",
      " [85 97 49 13 87]\n",
      " [35 15 97 52 67]]\n"
     ]
    }
   ],
   "source": [
    "#create a numpy array with random integer values within a specific range\n",
    "c = np.random.randint(10,100,(3,5))\n",
    "print(c)\n"
   ]
  },
  {
   "cell_type": "code",
   "execution_count": 39,
   "id": "18f80d3e",
   "metadata": {},
   "outputs": [
    {
     "name": "stdout",
     "output_type": "stream",
     "text": [
      "[10. 15. 20. 25. 30.]\n"
     ]
    }
   ],
   "source": [
    "#array of evenly spaced values  -> specifying the number of values required\n",
    "d = np.linspace(10,30,5)\n",
    "print(d)"
   ]
  },
  {
   "cell_type": "code",
   "execution_count": 32,
   "id": "348c87a6",
   "metadata": {},
   "outputs": [
    {
     "name": "stdout",
     "output_type": "stream",
     "text": [
      "[10 15 20 25]\n"
     ]
    }
   ],
   "source": [
    "#array of evenly spaced values -> specifying the steps\n",
    "e = np.arange(10,30,5)\n",
    "print(e)"
   ]
  },
  {
   "cell_type": "code",
   "execution_count": 41,
   "id": "abbd0ec9",
   "metadata": {},
   "outputs": [
    {
     "name": "stdout",
     "output_type": "stream",
     "text": [
      "[10 20 30 40 50]\n"
     ]
    },
    {
     "data": {
      "text/plain": [
       "numpy.ndarray"
      ]
     },
     "execution_count": 41,
     "metadata": {},
     "output_type": "execute_result"
    }
   ],
   "source": [
    "#convert a list to an numpy array\n",
    "list2 =[10,20,30,40,50]\n",
    "np_array = np.asarray(list2)\n",
    "print(np_array)\n",
    "type(np_array)"
   ]
  },
  {
   "cell_type": "markdown",
   "id": "5f386d9f",
   "metadata": {},
   "source": [
    "### Analysing the numpy array"
   ]
  },
  {
   "cell_type": "code",
   "execution_count": 42,
   "id": "7d4ddc44",
   "metadata": {},
   "outputs": [
    {
     "name": "stdout",
     "output_type": "stream",
     "text": [
      "[[71 47 66 11 78]\n",
      " [22 26 61 83 18]\n",
      " [16 37 23 58 48]\n",
      " [59 79 85 60 23]\n",
      " [32 34 15 12 12]]\n"
     ]
    }
   ],
   "source": [
    "c = np.random.randint(10,90,(5,5))\n",
    "print(c)"
   ]
  },
  {
   "cell_type": "code",
   "execution_count": 43,
   "id": "7735f7dc",
   "metadata": {},
   "outputs": [
    {
     "name": "stdout",
     "output_type": "stream",
     "text": [
      "(5, 5)\n"
     ]
    }
   ],
   "source": [
    "#array dimension\n",
    "print(c.shape)"
   ]
  },
  {
   "cell_type": "code",
   "execution_count": 44,
   "id": "f32cf59b",
   "metadata": {},
   "outputs": [
    {
     "name": "stdout",
     "output_type": "stream",
     "text": [
      "2\n"
     ]
    }
   ],
   "source": [
    "#number of dimension -->its rows and columns so it is showing 2\n",
    "print(c.ndim)"
   ]
  },
  {
   "cell_type": "code",
   "execution_count": 45,
   "id": "894551f5",
   "metadata": {},
   "outputs": [
    {
     "name": "stdout",
     "output_type": "stream",
     "text": [
      "25\n"
     ]
    }
   ],
   "source": [
    "#number of elements in array\n",
    "print(c.size)"
   ]
  },
  {
   "cell_type": "code",
   "execution_count": 46,
   "id": "78dbefb3",
   "metadata": {},
   "outputs": [
    {
     "name": "stdout",
     "output_type": "stream",
     "text": [
      "int32\n"
     ]
    }
   ],
   "source": [
    "#datatype of the values in the array\n",
    "print(c.dtype)"
   ]
  },
  {
   "cell_type": "markdown",
   "id": "3869e7e0",
   "metadata": {},
   "source": [
    "#### Mathematical operations on a np array"
   ]
  },
  {
   "cell_type": "code",
   "execution_count": 47,
   "id": "c2f8acd5",
   "metadata": {},
   "outputs": [
    {
     "name": "stdout",
     "output_type": "stream",
     "text": [
      "[1, 2, 3, 4, 5, 6, 7, 8, 9, 10]\n"
     ]
    }
   ],
   "source": [
    "list1 =[1,2,3,4,5]\n",
    "list2 = [6,7,8,9,10]\n",
    "print(list1 + list2)  # this concatenate or joins two list"
   ]
  },
  {
   "cell_type": "code",
   "execution_count": 48,
   "id": "7efe85f9",
   "metadata": {},
   "outputs": [
    {
     "name": "stdout",
     "output_type": "stream",
     "text": [
      "[[5 2 0]\n",
      " [8 1 2]\n",
      " [5 6 6]]\n",
      "[[15 12 18]\n",
      " [19 10 19]\n",
      " [10 14 18]]\n"
     ]
    }
   ],
   "source": [
    "a = np.random.randint(0,10,(3,3))\n",
    "b = np.random.randint(10,20,(3,3))\n",
    "\n",
    "print(a)\n",
    "print(b)\n"
   ]
  },
  {
   "cell_type": "code",
   "execution_count": 49,
   "id": "46b9a99a",
   "metadata": {},
   "outputs": [
    {
     "name": "stdout",
     "output_type": "stream",
     "text": [
      "[[20 14 18]\n",
      " [27 11 21]\n",
      " [15 20 24]]\n"
     ]
    }
   ],
   "source": [
    "print(a+b) # in the case of list it joined or concatenated but here we can see the 'a' and 'b' values are added"
   ]
  },
  {
   "cell_type": "code",
   "execution_count": 50,
   "id": "c67811dd",
   "metadata": {},
   "outputs": [
    {
     "name": "stdout",
     "output_type": "stream",
     "text": [
      "[[-10 -10 -18]\n",
      " [-11  -9 -17]\n",
      " [ -5  -8 -12]]\n",
      "[[ 75  24   0]\n",
      " [152  10  38]\n",
      " [ 50  84 108]]\n",
      "[[0.33333333 0.16666667 0.        ]\n",
      " [0.42105263 0.1        0.10526316]\n",
      " [0.5        0.42857143 0.33333333]]\n"
     ]
    }
   ],
   "source": [
    "print(a-b)\n",
    "print(a*b)\n",
    "print(a/b)"
   ]
  },
  {
   "cell_type": "code",
   "execution_count": 51,
   "id": "6d63a6aa",
   "metadata": {},
   "outputs": [
    {
     "name": "stdout",
     "output_type": "stream",
     "text": [
      "[[1 7 3]\n",
      " [7 2 7]\n",
      " [2 7 6]]\n",
      "[[16 11 17]\n",
      " [16 14 19]\n",
      " [12 18 12]]\n"
     ]
    }
   ],
   "source": [
    "a = np.random.randint(0,10,(3,3))\n",
    "b = np.random.randint(10,20,(3,3))\n",
    "\n",
    "print(a)\n",
    "print(b)\n"
   ]
  },
  {
   "cell_type": "code",
   "execution_count": 52,
   "id": "b247b6ba",
   "metadata": {},
   "outputs": [
    {
     "name": "stdout",
     "output_type": "stream",
     "text": [
      "[[17 18 20]\n",
      " [23 16 26]\n",
      " [14 25 18]]\n",
      "[[-15  -4 -14]\n",
      " [ -9 -12 -12]\n",
      " [-10 -11  -6]]\n",
      "[[ 16  77  51]\n",
      " [112  28 133]\n",
      " [ 24 126  72]]\n",
      "[[0.0625     0.63636364 0.17647059]\n",
      " [0.4375     0.14285714 0.36842105]\n",
      " [0.16666667 0.38888889 0.5       ]]\n"
     ]
    }
   ],
   "source": [
    "print(np.add(a,b))\n",
    "print(np.subtract(a,b))\n",
    "print(np.multiply(a,b))\n",
    "print(np.divide(a,b))"
   ]
  },
  {
   "cell_type": "markdown",
   "id": "3fa57246",
   "metadata": {},
   "source": [
    "#### array manipulation"
   ]
  },
  {
   "cell_type": "code",
   "execution_count": 53,
   "id": "f47a6f77",
   "metadata": {},
   "outputs": [
    {
     "name": "stdout",
     "output_type": "stream",
     "text": [
      "[[7 7 3]\n",
      " [3 1 3]]\n",
      "(2, 3)\n"
     ]
    }
   ],
   "source": [
    "array = np.random.randint(0,10,(2,3))\n",
    "print(array)\n",
    "print(array.shape)"
   ]
  },
  {
   "cell_type": "code",
   "execution_count": 57,
   "id": "d11ddbc1",
   "metadata": {},
   "outputs": [
    {
     "name": "stdout",
     "output_type": "stream",
     "text": [
      "[[7 3]\n",
      " [7 1]\n",
      " [3 3]]\n",
      "shape is : (3, 2)\n"
     ]
    }
   ],
   "source": [
    "#transpose\n",
    "trans = np.transpose(array)\n",
    "print(trans)\n",
    "print(\"shape is :\",trans.shape)"
   ]
  },
  {
   "cell_type": "code",
   "execution_count": 58,
   "id": "f91e51a1",
   "metadata": {},
   "outputs": [
    {
     "name": "stdout",
     "output_type": "stream",
     "text": [
      "[[7 3]\n",
      " [7 1]\n",
      " [3 3]]\n",
      "shape is: (3, 2)\n"
     ]
    }
   ],
   "source": [
    "trans2 = array.T\n",
    "print(trans2)\n",
    "print(\"shape is:\",trans2.shape)"
   ]
  },
  {
   "cell_type": "markdown",
   "id": "fdb01c81",
   "metadata": {},
   "source": [
    "#### reshaping array"
   ]
  },
  {
   "cell_type": "code",
   "execution_count": 59,
   "id": "0bfcc32f",
   "metadata": {},
   "outputs": [
    {
     "name": "stdout",
     "output_type": "stream",
     "text": [
      "[[2 0 6]\n",
      " [5 9 4]]\n",
      "(2, 3)\n"
     ]
    }
   ],
   "source": [
    "\n",
    "a = np.random.randint(0,10,(2,3))\n",
    "print(a)\n",
    "print(a.shape)"
   ]
  },
  {
   "cell_type": "code",
   "execution_count": 60,
   "id": "f32f8eec",
   "metadata": {},
   "outputs": [
    {
     "name": "stdout",
     "output_type": "stream",
     "text": [
      "[[2 0]\n",
      " [6 5]\n",
      " [9 4]]\n",
      "(3, 2)\n"
     ]
    }
   ],
   "source": [
    "b = a.reshape(3,2)\n",
    "print(b)\n",
    "print(b.shape)"
   ]
  },
  {
   "cell_type": "code",
   "execution_count": null,
   "id": "3807ffc4",
   "metadata": {},
   "outputs": [],
   "source": []
  }
 ],
 "metadata": {
  "kernelspec": {
   "display_name": "Python 3 (ipykernel)",
   "language": "python",
   "name": "python3"
  },
  "language_info": {
   "codemirror_mode": {
    "name": "ipython",
    "version": 3
   },
   "file_extension": ".py",
   "mimetype": "text/x-python",
   "name": "python",
   "nbconvert_exporter": "python",
   "pygments_lexer": "ipython3",
   "version": "3.11.3"
  }
 },
 "nbformat": 4,
 "nbformat_minor": 5
}
