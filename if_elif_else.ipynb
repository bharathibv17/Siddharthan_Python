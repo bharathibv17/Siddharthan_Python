{
  "nbformat": 4,
  "nbformat_minor": 0,
  "metadata": {
    "colab": {
      "provenance": []
    },
    "kernelspec": {
      "name": "python3",
      "display_name": "Python 3"
    },
    "language_info": {
      "name": "python"
    }
  },
  "cells": [
    {
      "cell_type": "markdown",
      "source": [
        "simple if else statement"
      ],
      "metadata": {
        "id": "bg7OZ22TbHqW"
      }
    },
    {
      "cell_type": "code",
      "execution_count": 1,
      "metadata": {
        "colab": {
          "base_uri": "https://localhost:8080/"
        },
        "id": "rVmypYTPU4oO",
        "outputId": "0cdb621e-f49c-42cf-d512-cff053548e2b"
      },
      "outputs": [
        {
          "output_type": "stream",
          "name": "stdout",
          "text": [
            "b is greatest number\n"
          ]
        }
      ],
      "source": [
        "a  = 30\n",
        "b = 50\n",
        "\n",
        "if a > b:\n",
        "  print('a is greatest number')\n",
        "else:\n",
        "  print('b is greatest number')"
      ]
    },
    {
      "cell_type": "code",
      "source": [
        "a = int(input('Enter the first number: '))\n",
        "b  = int(input('Enter the second number : '))\n",
        "\n",
        "if a > b:\n",
        "  print('a is greatest number')\n",
        "else:\n",
        "  print('b is greatest number')"
      ],
      "metadata": {
        "colab": {
          "base_uri": "https://localhost:8080/"
        },
        "id": "v-pMHeWsbW3q",
        "outputId": "f210b83c-6fae-4efb-a080-3194e5480d81"
      },
      "execution_count": 2,
      "outputs": [
        {
          "output_type": "stream",
          "name": "stdout",
          "text": [
            "Enter the first number: 20\n",
            "Enter the second number : 15\n",
            "a is greatest number\n"
          ]
        }
      ]
    },
    {
      "cell_type": "markdown",
      "source": [
        "if elif else statement"
      ],
      "metadata": {
        "id": "gHS2yJ-hcAVW"
      }
    },
    {
      "cell_type": "code",
      "source": [
        "a  = 15\n",
        "b = 25\n",
        "c = 30\n",
        "\n",
        "if b < a >c:\n",
        "  print('a is the greatest number')\n",
        "elif (a<b>c):\n",
        "  print('b is the greatest number')\n",
        "else:\n",
        "  print('c is the greatest number')"
      ],
      "metadata": {
        "colab": {
          "base_uri": "https://localhost:8080/"
        },
        "id": "lRlPRrspbrRS",
        "outputId": "8cc825b6-5dbc-4eaa-dcb8-e559b53f920a"
      },
      "execution_count": 3,
      "outputs": [
        {
          "output_type": "stream",
          "name": "stdout",
          "text": [
            "c is the greatest number\n"
          ]
        }
      ]
    },
    {
      "cell_type": "markdown",
      "source": [
        "nested if statement\n",
        "\n",
        "using a if statement inside of if statement"
      ],
      "metadata": {
        "id": "99N7JJNPc3fU"
      }
    },
    {
      "cell_type": "code",
      "source": [
        "a = 20\n",
        "b = 40\n",
        "c = 60\n",
        "\n",
        "if (a>b):\n",
        "  if (a>c):\n",
        "    print('a is the greatest number')\n",
        "  else:\n",
        "    print('c is the greatest number')\n",
        "else:\n",
        "  if (b>c):\n",
        "    print('b is the greatest number')\n",
        "  else:\n",
        "    print('c is the greatest number')"
      ],
      "metadata": {
        "colab": {
          "base_uri": "https://localhost:8080/"
        },
        "id": "1nBwhu0aczPX",
        "outputId": "bbae3dba-4c4d-4939-eef1-98ef56861f95"
      },
      "execution_count": 7,
      "outputs": [
        {
          "output_type": "stream",
          "name": "stdout",
          "text": [
            "c is the greatest number\n"
          ]
        }
      ]
    },
    {
      "cell_type": "code",
      "source": [],
      "metadata": {
        "id": "TZ7tBpCtdhlu"
      },
      "execution_count": null,
      "outputs": []
    }
  ]
}