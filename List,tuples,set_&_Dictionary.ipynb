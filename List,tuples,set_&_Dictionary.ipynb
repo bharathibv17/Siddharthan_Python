{
  "nbformat": 4,
  "nbformat_minor": 0,
  "metadata": {
    "colab": {
      "provenance": []
    },
    "kernelspec": {
      "name": "python3",
      "display_name": "Python 3"
    },
    "language_info": {
      "name": "python"
    }
  },
  "cells": [
    {
      "cell_type": "code",
      "execution_count": null,
      "metadata": {
        "id": "IC2Q77jfT_z_"
      },
      "outputs": [],
      "source": []
    },
    {
      "cell_type": "markdown",
      "source": [
        "Types of Objects in Python\n",
        "1. Immutable objects\n",
        "2. Mutable objects"
      ],
      "metadata": {
        "id": "OrtfqnRSUeTQ"
      }
    },
    {
      "cell_type": "markdown",
      "source": [
        "Immutable objects\n",
        "1. int\n",
        "2. float\n",
        "3. string\n",
        "4. bool\n",
        "5. tuple"
      ],
      "metadata": {
        "id": "UCuEnYpaUcsn"
      }
    },
    {
      "cell_type": "markdown",
      "source": [
        "Mutable objects\n",
        "1. list\n",
        "2. set\n",
        "3. dictionary"
      ],
      "metadata": {
        "id": "bSOnbFToUtrG"
      }
    },
    {
      "cell_type": "markdown",
      "source": [
        "#List"
      ],
      "metadata": {
        "id": "ugn4F-NJblp9"
      }
    },
    {
      "cell_type": "code",
      "source": [
        "#list should be enclosed in Square brackets []\n",
        "my_list = [1,2,3,4,5]\n",
        "print(my_list)\n",
        "print(type(my_list))"
      ],
      "metadata": {
        "colab": {
          "base_uri": "https://localhost:8080/"
        },
        "id": "I-I_UBJnbn8O",
        "outputId": "a4517613-e5c8-4daf-bb6c-6ea07dc2ac08"
      },
      "execution_count": 2,
      "outputs": [
        {
          "output_type": "stream",
          "name": "stdout",
          "text": [
            "[1, 2, 3, 4, 5]\n",
            "<class 'list'>\n"
          ]
        }
      ]
    },
    {
      "cell_type": "code",
      "source": [
        "# list can store multiple data types\n",
        "my_list = [1,2,5.5,'MachineLearning',True]\n",
        "print(my_list)"
      ],
      "metadata": {
        "colab": {
          "base_uri": "https://localhost:8080/"
        },
        "id": "iFVB6g8rb1zk",
        "outputId": "ef236c7e-5e95-47e5-8749-b431d11b4f2d"
      },
      "execution_count": 3,
      "outputs": [
        {
          "output_type": "stream",
          "name": "stdout",
          "text": [
            "[1, 2, 5.5, 'MachineLearning', True]\n"
          ]
        }
      ]
    },
    {
      "cell_type": "markdown",
      "source": [
        "List are mutable -- >Changeable"
      ],
      "metadata": {
        "id": "L31PzgYOcVlh"
      }
    },
    {
      "cell_type": "code",
      "source": [
        "#add elements to list\n",
        "my_list = [1,2,5.5,'MachineLearning',True]\n",
        "my_list.append(6)   # add new element to list\n",
        "print(my_list)"
      ],
      "metadata": {
        "colab": {
          "base_uri": "https://localhost:8080/"
        },
        "id": "1XjjTB1UcJZo",
        "outputId": "8755e756-b088-4315-e18f-317f6b6dcd04"
      },
      "execution_count": 4,
      "outputs": [
        {
          "output_type": "stream",
          "name": "stdout",
          "text": [
            "[1, 2, 5.5, 'MachineLearning', True, 6]\n"
          ]
        }
      ]
    },
    {
      "cell_type": "code",
      "source": [
        "# print elements of a list using there index\n",
        "print(my_list[0])\n",
        "print(my_list[2])"
      ],
      "metadata": {
        "colab": {
          "base_uri": "https://localhost:8080/"
        },
        "id": "TVDP2Fm5cmd7",
        "outputId": "08eb2b2e-0c9b-4788-b2e1-76d31d4ae5ce"
      },
      "execution_count": 6,
      "outputs": [
        {
          "output_type": "stream",
          "name": "stdout",
          "text": [
            "1\n",
            "5.5\n"
          ]
        }
      ]
    },
    {
      "cell_type": "code",
      "source": [
        "# List allows duplicate or repeated values\n",
        "list_1 = [1,2,3,4,5,1,2,3,6,7]\n",
        "print(list_1)"
      ],
      "metadata": {
        "colab": {
          "base_uri": "https://localhost:8080/"
        },
        "id": "Q7LJp5mgcz4H",
        "outputId": "35fb8b8f-1ab0-4c8f-cb14-a37e2fe5c63b"
      },
      "execution_count": 7,
      "outputs": [
        {
          "output_type": "stream",
          "name": "stdout",
          "text": [
            "[1, 2, 3, 4, 5, 1, 2, 3, 6, 7]\n"
          ]
        }
      ]
    },
    {
      "cell_type": "code",
      "source": [
        "# checking the elements in list\n",
        "print(len(list_1))"
      ],
      "metadata": {
        "colab": {
          "base_uri": "https://localhost:8080/"
        },
        "id": "qxZ8akQJdFqy",
        "outputId": "e3706e27-4bda-443f-b346-bcc769a3ab1d"
      },
      "execution_count": 8,
      "outputs": [
        {
          "output_type": "stream",
          "name": "stdout",
          "text": [
            "10\n"
          ]
        }
      ]
    },
    {
      "cell_type": "code",
      "source": [
        "# inititating an empty list\n",
        "list_2 =[]\n",
        "print(list_2)"
      ],
      "metadata": {
        "colab": {
          "base_uri": "https://localhost:8080/"
        },
        "id": "1VLeSSbBdOAi",
        "outputId": "2a30bfdc-b731-4c61-a6e0-d0bfd1d34fbc"
      },
      "execution_count": 9,
      "outputs": [
        {
          "output_type": "stream",
          "name": "stdout",
          "text": [
            "[]\n"
          ]
        }
      ]
    },
    {
      "cell_type": "code",
      "source": [
        "list_2.append(5)\n",
        "print(list_2)"
      ],
      "metadata": {
        "colab": {
          "base_uri": "https://localhost:8080/"
        },
        "id": "_78jMhOhdX1X",
        "outputId": "819931c8-fcaf-4226-938c-8e7e359f0fc6"
      },
      "execution_count": 10,
      "outputs": [
        {
          "output_type": "stream",
          "name": "stdout",
          "text": [
            "[5]\n"
          ]
        }
      ]
    },
    {
      "cell_type": "code",
      "source": [
        "# delete an item in the list\n",
        "list_2 = [1,2,3,4,5,'English']\n",
        "print(list_2)\n",
        "\n",
        "del list_2[3]\n",
        "print(list_2)"
      ],
      "metadata": {
        "colab": {
          "base_uri": "https://localhost:8080/"
        },
        "id": "H_zKGMPodgGZ",
        "outputId": "b5684ba1-c882-4eb4-91a8-44c08f4a59cc"
      },
      "execution_count": 11,
      "outputs": [
        {
          "output_type": "stream",
          "name": "stdout",
          "text": [
            "[1, 2, 3, 4, 5, 'English']\n",
            "[1, 2, 3, 5, 'English']\n"
          ]
        }
      ]
    },
    {
      "cell_type": "code",
      "source": [
        "# join two list\n",
        "list_1 =[ 1,2,3,4,5]\n",
        "list_2 =[ 6,7,8,9,10]\n",
        "total_list = list_1 + list_2\n",
        "print(total_list)"
      ],
      "metadata": {
        "colab": {
          "base_uri": "https://localhost:8080/"
        },
        "id": "ngcyZq1zd3J3",
        "outputId": "bcc5fe6f-2b01-4c2d-cbec-5d2fcad65082"
      },
      "execution_count": 12,
      "outputs": [
        {
          "output_type": "stream",
          "name": "stdout",
          "text": [
            "[1, 2, 3, 4, 5, 6, 7, 8, 9, 10]\n"
          ]
        }
      ]
    },
    {
      "cell_type": "markdown",
      "source": [
        "#Tuples"
      ],
      "metadata": {
        "id": "NB0qPQ5SeNWe"
      }
    },
    {
      "cell_type": "code",
      "source": [
        "# tuples are immutable\n",
        "# tuples are enclosed in round brackets ()\n",
        "\n",
        "tuple_1 =(2,3,4,5)\n",
        "print(tuple_1)\n",
        "print(type(tuple_1))"
      ],
      "metadata": {
        "colab": {
          "base_uri": "https://localhost:8080/"
        },
        "id": "9fLpNw9IeGMA",
        "outputId": "2ade91f8-79a7-4a93-dada-d4a4fc65bee7"
      },
      "execution_count": 13,
      "outputs": [
        {
          "output_type": "stream",
          "name": "stdout",
          "text": [
            "(2, 3, 4, 5)\n",
            "<class 'tuple'>\n"
          ]
        }
      ]
    },
    {
      "cell_type": "code",
      "source": [
        "# tuples allows multiple data type\n",
        "tuple_2 =(2.2,5,6,'English',True)\n",
        "print(tuple_2)"
      ],
      "metadata": {
        "colab": {
          "base_uri": "https://localhost:8080/"
        },
        "id": "AguCqqASecbF",
        "outputId": "7672dc1c-02cd-45b7-e9b3-5d28cc694021"
      },
      "execution_count": 14,
      "outputs": [
        {
          "output_type": "stream",
          "name": "stdout",
          "text": [
            "(2.2, 5, 6, 'English', True)\n"
          ]
        }
      ]
    },
    {
      "cell_type": "code",
      "source": [
        "# Converting list into a tuple\n",
        "my_list = [2,3,4.5,7,8]\n",
        "print(my_list)\n",
        "print(type(my_list))\n",
        "my_tuple = tuple(my_list)\n",
        "print(my_tuple)\n",
        "print(type(my_tuple))"
      ],
      "metadata": {
        "colab": {
          "base_uri": "https://localhost:8080/"
        },
        "id": "CKvlVAR8el7B",
        "outputId": "408b267f-c78f-47a0-b175-f6a0ffa1347d"
      },
      "execution_count": 15,
      "outputs": [
        {
          "output_type": "stream",
          "name": "stdout",
          "text": [
            "[2, 3, 4.5, 7, 8]\n",
            "<class 'list'>\n",
            "(2, 3, 4.5, 7, 8)\n",
            "<class 'tuple'>\n"
          ]
        }
      ]
    },
    {
      "cell_type": "code",
      "source": [
        "print(my_tuple[0])"
      ],
      "metadata": {
        "colab": {
          "base_uri": "https://localhost:8080/"
        },
        "id": "j7So8TKKe7KJ",
        "outputId": "41261f30-b78a-4d5c-93f3-4af594a141d5"
      },
      "execution_count": 16,
      "outputs": [
        {
          "output_type": "stream",
          "name": "stdout",
          "text": [
            "2\n"
          ]
        }
      ]
    },
    {
      "cell_type": "markdown",
      "source": [
        "Tuples are mutable --> not changeable"
      ],
      "metadata": {
        "id": "BR5z1_mIfQwv"
      }
    },
    {
      "cell_type": "code",
      "source": [
        "my_tuple.append(0)  # we cannot change the element or add element"
      ],
      "metadata": {
        "colab": {
          "base_uri": "https://localhost:8080/",
          "height": 141
        },
        "id": "0bDhOFYffHiY",
        "outputId": "39c4ccb4-8f3d-4838-ed70-8a8074ac5b28"
      },
      "execution_count": 17,
      "outputs": [
        {
          "output_type": "error",
          "ename": "AttributeError",
          "evalue": "'tuple' object has no attribute 'append'",
          "traceback": [
            "\u001b[0;31m---------------------------------------------------------------------------\u001b[0m",
            "\u001b[0;31mAttributeError\u001b[0m                            Traceback (most recent call last)",
            "\u001b[0;32m<ipython-input-17-f366f9617c05>\u001b[0m in \u001b[0;36m<cell line: 1>\u001b[0;34m()\u001b[0m\n\u001b[0;32m----> 1\u001b[0;31m \u001b[0mmy_tuple\u001b[0m\u001b[0;34m.\u001b[0m\u001b[0mappend\u001b[0m\u001b[0;34m(\u001b[0m\u001b[0;36m0\u001b[0m\u001b[0;34m)\u001b[0m\u001b[0;34m\u001b[0m\u001b[0;34m\u001b[0m\u001b[0m\n\u001b[0m",
            "\u001b[0;31mAttributeError\u001b[0m: 'tuple' object has no attribute 'append'"
          ]
        }
      ]
    },
    {
      "cell_type": "code",
      "source": [
        "#finding how many elements are present in tuple\n",
        "print(len(my_tuple))"
      ],
      "metadata": {
        "colab": {
          "base_uri": "https://localhost:8080/"
        },
        "id": "xnUx6BW-fWzi",
        "outputId": "e55a8cc9-2d04-4f80-d02f-dd64ec22e89d"
      },
      "execution_count": 18,
      "outputs": [
        {
          "output_type": "stream",
          "name": "stdout",
          "text": [
            "5\n"
          ]
        }
      ]
    },
    {
      "cell_type": "markdown",
      "source": [
        "#Set"
      ],
      "metadata": {
        "id": "8LmuRTHlfh-k"
      }
    },
    {
      "cell_type": "code",
      "source": [
        "# Sets are also mutable data types\n",
        "# sets are enclosed in curly bracket {}\n",
        "# set does not allow duplicate values\n",
        "\n",
        "my_set = {1,2,3,4,5}\n",
        "print(my_set)\n",
        "print(type(my_set))"
      ],
      "metadata": {
        "colab": {
          "base_uri": "https://localhost:8080/"
        },
        "id": "uFwVOX09ff9g",
        "outputId": "be0e1128-e265-40f0-e7ed-c24892f272e9"
      },
      "execution_count": 19,
      "outputs": [
        {
          "output_type": "stream",
          "name": "stdout",
          "text": [
            "{1, 2, 3, 4, 5}\n",
            "<class 'set'>\n"
          ]
        }
      ]
    },
    {
      "cell_type": "code",
      "source": [
        "# we CANNOT CALL specific element in set(indexing cannot be done in set)\n",
        "my_set[0]  # this shows error"
      ],
      "metadata": {
        "colab": {
          "base_uri": "https://localhost:8080/",
          "height": 158
        },
        "id": "0ZT78wzBfuOL",
        "outputId": "0266e3eb-4754-401f-936a-f625e99aff94"
      },
      "execution_count": 20,
      "outputs": [
        {
          "output_type": "error",
          "ename": "TypeError",
          "evalue": "'set' object is not subscriptable",
          "traceback": [
            "\u001b[0;31m---------------------------------------------------------------------------\u001b[0m",
            "\u001b[0;31mTypeError\u001b[0m                                 Traceback (most recent call last)",
            "\u001b[0;32m<ipython-input-20-4a743f3260a2>\u001b[0m in \u001b[0;36m<cell line: 2>\u001b[0;34m()\u001b[0m\n\u001b[1;32m      1\u001b[0m \u001b[0;31m# we CANNOT CALL specific element in set(indexing cannot be done in set)\u001b[0m\u001b[0;34m\u001b[0m\u001b[0;34m\u001b[0m\u001b[0m\n\u001b[0;32m----> 2\u001b[0;31m \u001b[0mmy_set\u001b[0m\u001b[0;34m[\u001b[0m\u001b[0;36m0\u001b[0m\u001b[0;34m]\u001b[0m\u001b[0;34m\u001b[0m\u001b[0;34m\u001b[0m\u001b[0m\n\u001b[0m",
            "\u001b[0;31mTypeError\u001b[0m: 'set' object is not subscriptable"
          ]
        }
      ]
    },
    {
      "cell_type": "code",
      "source": [
        "#convert list to a set\n",
        "my_list = [1,2,3,4,5]\n",
        "print(my_list)\n",
        "my_set = set(my_list)\n",
        "print(type(my_set))\n",
        "print(my_set)"
      ],
      "metadata": {
        "colab": {
          "base_uri": "https://localhost:8080/"
        },
        "id": "DbpSitR7f4Sm",
        "outputId": "0b1e6a91-a347-40f9-8047-b9ff581003a8"
      },
      "execution_count": 21,
      "outputs": [
        {
          "output_type": "stream",
          "name": "stdout",
          "text": [
            "[1, 2, 3, 4, 5]\n",
            "<class 'set'>\n",
            "{1, 2, 3, 4, 5}\n"
          ]
        }
      ]
    },
    {
      "cell_type": "code",
      "source": [
        "# set does not allow duplicate value\n",
        "set_3 ={23,4,44,5,4,55,6,5}\n",
        "print(set_3) #here you can see the duplicate values are not printed"
      ],
      "metadata": {
        "colab": {
          "base_uri": "https://localhost:8080/"
        },
        "id": "zaWYFAMlgGEv",
        "outputId": "2a129849-20b3-462d-dbcf-1c2191c4ec91"
      },
      "execution_count": 22,
      "outputs": [
        {
          "output_type": "stream",
          "name": "stdout",
          "text": [
            "{4, 5, 6, 55, 23, 44}\n"
          ]
        }
      ]
    },
    {
      "cell_type": "markdown",
      "source": [
        "#Dictionary"
      ],
      "metadata": {
        "id": "_HPX0XQIgqJy"
      }
    },
    {
      "cell_type": "code",
      "source": [
        "# Dictionary has key-value pair\n",
        "# dictionary values can be called using by key\n",
        "# dictionary does not allow duplicate values\n",
        "\n",
        "my_dict = {\"Name\":\"David\",\"age\":30,\"country\":\"India\"} #here name is key and david is value and same for others in this dictionary\n",
        "print(my_dict)\n",
        "print(type(my_dict))\n"
      ],
      "metadata": {
        "colab": {
          "base_uri": "https://localhost:8080/"
        },
        "id": "09dcx_BBglUs",
        "outputId": "35386808-68fc-429e-ce2d-62d70a865aec"
      },
      "execution_count": 23,
      "outputs": [
        {
          "output_type": "stream",
          "name": "stdout",
          "text": [
            "{'Name': 'David', 'age': 30, 'country': 'India'}\n",
            "<class 'dict'>\n"
          ]
        }
      ]
    },
    {
      "cell_type": "code",
      "source": [
        "# dictionary values can be called using by key\n",
        "print(my_dict[\"country\"])\n",
        "print(my_dict[\"age\"])\n",
        "print(my_dict[\"Name\"])"
      ],
      "metadata": {
        "colab": {
          "base_uri": "https://localhost:8080/"
        },
        "id": "nCxYyaYsg_Q1",
        "outputId": "140525e3-9030-4933-a0c0-5c73b040ac99"
      },
      "execution_count": 25,
      "outputs": [
        {
          "output_type": "stream",
          "name": "stdout",
          "text": [
            "India\n",
            "30\n",
            "David\n"
          ]
        }
      ]
    },
    {
      "cell_type": "code",
      "source": [
        "# dictionary does not allow duplicate values\n",
        "my_dict_2 ={\"Name\":\"David\",\"age\":30,\"country\":\"India\",\"Name\":\"David\",\"age\":30,\"country\":\"India\"}\n",
        "print(my_dict_2) # here you can see duplicate values are not allowed\n",
        ""
      ],
      "metadata": {
        "colab": {
          "base_uri": "https://localhost:8080/"
        },
        "id": "b4035bWghLi_",
        "outputId": "10f402ca-31d6-41b0-c460-8ef6e2da0787"
      },
      "execution_count": 26,
      "outputs": [
        {
          "output_type": "stream",
          "name": "stdout",
          "text": [
            "{'Name': 'David', 'age': 30, 'country': 'India'}\n"
          ]
        }
      ]
    },
    {
      "cell_type": "code",
      "source": [],
      "metadata": {
        "id": "vcEwRHp6hngH"
      },
      "execution_count": null,
      "outputs": []
    }
  ]
}