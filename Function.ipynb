{
 "cells": [
  {
   "cell_type": "markdown",
   "id": "00a48bd4",
   "metadata": {},
   "source": [
    "#### Functions:\n",
    "\n",
    "Function is a block of code that can be reused in program"
   ]
  },
  {
   "cell_type": "markdown",
   "id": "2713a525",
   "metadata": {},
   "source": [
    "#### Factorial of number\n",
    "\n",
    "factorial of number is the product of all the postive integers less or \n",
    "equal to given number"
   ]
  },
  {
   "cell_type": "markdown",
   "id": "0fe79396",
   "metadata": {},
   "source": [
    "##### factorial of 5 = 5 x 4 x 3 x 2 x 1 = 120"
   ]
  },
  {
   "cell_type": "code",
   "execution_count": 5,
   "id": "b47d3262",
   "metadata": {},
   "outputs": [
    {
     "name": "stdout",
     "output_type": "stream",
     "text": [
      "Enter the number to find its factorial: 10\n",
      " The factorial of:  10 is:  3628800\n"
     ]
    }
   ],
   "source": [
    "number = int(input('Enter the number to find its factorial: '))\n",
    "\n",
    "factorial = 1\n",
    "\n",
    "if number == 0:\n",
    "    print(\"The factorial of 0 is 1\")\n",
    "else:\n",
    "    for i in range(1, number + 1):    #range(1,6) --> it includes all the values from 1,2,3,4,5\n",
    "        factorial = factorial * i     #1*2*3*4*5\n",
    "    print(' The factorial of: ',number,'is: ',factorial)"
   ]
  },
  {
   "cell_type": "markdown",
   "id": "769b74de",
   "metadata": {},
   "source": [
    "#### Factorial Function"
   ]
  },
  {
   "cell_type": "code",
   "execution_count": 8,
   "id": "28f6a440",
   "metadata": {},
   "outputs": [],
   "source": [
    "def factorial_value(num):\n",
    "    factorial = 1\n",
    "    \n",
    "    if num == 0:\n",
    "        return factorial\n",
    "    else:\n",
    "        for i in range(1,num + 1):\n",
    "            factorial = factorial * i\n",
    "        return factorial"
   ]
  },
  {
   "cell_type": "code",
   "execution_count": 9,
   "id": "60739e5d",
   "metadata": {},
   "outputs": [
    {
     "name": "stdout",
     "output_type": "stream",
     "text": [
      "120\n"
     ]
    }
   ],
   "source": [
    "print(factorial_value(5))"
   ]
  },
  {
   "cell_type": "code",
   "execution_count": 10,
   "id": "13eaa7e5",
   "metadata": {},
   "outputs": [
    {
     "name": "stdout",
     "output_type": "stream",
     "text": [
      "3628800\n"
     ]
    }
   ],
   "source": [
    "print(factorial_value(10))"
   ]
  },
  {
   "cell_type": "code",
   "execution_count": null,
   "id": "de272e74",
   "metadata": {},
   "outputs": [],
   "source": []
  }
 ],
 "metadata": {
  "kernelspec": {
   "display_name": "Python 3 (ipykernel)",
   "language": "python",
   "name": "python3"
  },
  "language_info": {
   "codemirror_mode": {
    "name": "ipython",
    "version": 3
   },
   "file_extension": ".py",
   "mimetype": "text/x-python",
   "name": "python",
   "nbconvert_exporter": "python",
   "pygments_lexer": "ipython3",
   "version": "3.11.3"
  }
 },
 "nbformat": 4,
 "nbformat_minor": 5
}
